{
 "cells": [
  {
   "cell_type": "code",
   "execution_count": 1,
   "metadata": {},
   "outputs": [],
   "source": [
    "import numpy as np\n",
    "import os\n",
    "import matplotlib.pyplot as plt"
   ]
  },
  {
   "cell_type": "code",
   "execution_count": 2,
   "metadata": {},
   "outputs": [],
   "source": [
    "def read_and_decode_mcge_p(path,file):\n",
    "    with open(os.path.join(path,file), 'r') as f:\n",
    "        content = f.read()\n",
    "    number = []\n",
    "    for s in content.split():\n",
    "        try:\n",
    "            x = float(s)\n",
    "            number.append(x)\n",
    "        except:\n",
    "            pass\n",
    "    content_matrix = np.reshape(number, (8, 5, 8))\n",
    "    num_proc = content_matrix[0, 0, 2]\n",
    "    average_time = content_matrix[:,:,3]\n",
    "    comm_time = content_matrix[:,:,5]\n",
    "    dist_time = content_matrix[:,:,7]\n",
    "    return num_proc, average_time, comm_time, dist_time\n",
    "\n",
    "def read_and_decode_ge_scalapack(path, file):\n",
    "    with open(os.path.join(path,file), 'r') as f:\n",
    "        content = f.read()\n",
    "    content_list = content.split()\n",
    "    content_2 = content_list[9::9]\n",
    "    number = []\n",
    "    for content_2_element in content_2:\n",
    "        for s in content_2_element.split(','):\n",
    "            try:\n",
    "                x = float(s)\n",
    "                number.append(x)\n",
    "            except:\n",
    "                pass\n",
    "    content_matrix = np.reshape(number, (8, 5, 6))\n",
    "    average_time = content_matrix[:, :, 5]\n",
    "    tmp_number = content_list[8].split(',')\n",
    "    num_proc = int(tmp_number[0])\n",
    "    return num_proc, average_time\n",
    "\n",
    "\n",
    "\n",
    "def generate_metrics_mcge_p(path):\n",
    "    '''\n",
    "    this function will generate 3x8x8x5 matrices for mc_p and ge_p\n",
    "    1st dimension: 0-total execution time  1-total communication time 2-data distribution time\n",
    "    2nd dimension:problem size in thousand (1-8K)\n",
    "    3rd dimension: number of processors-1 2 4 8 16 32 64 128\n",
    "    4th dimension: different independent runs'''\n",
    "    \n",
    "    #initialize result\n",
    "    result = np.zeros((3,8,8,5), dtype = float)\n",
    "    file_list = os.listdir(path)\n",
    "    for file in file_list:\n",
    "        num_proc, average_time, comm_time, dist_time = read_and_decode_mcge_p(path,file)\n",
    "        index = int(np.log2(num_proc))\n",
    "        result[0, :, index, :] = average_time\n",
    "        result[1, :, index, :] = comm_time\n",
    "        result[2, :, index, :] = dist_time\n",
    "    return result\n",
    "\n",
    "def generate_metrics_gescalapack(path):\n",
    "    '''\n",
    "    This function will generate 8x8x5 matrices for ge_scalapack\n",
    "    1st dimension:problem size in thousand (1-8K)\n",
    "    2nd dimension: number of processors-1 2 4 8 16 32 64 128\n",
    "    3rd dimension: different independent runs'''\n",
    "    #initialize result\n",
    "    result = np.zeros((8, 8, 5), dtype = float)\n",
    "    file_list = os.listdir(path)\n",
    "    for file in file_list:\n",
    "        num_proc, average_time = read_and_decode_ge_scalapack(path,file)\n",
    "        index = int(np.log2(num_proc))\n",
    "        result[:, index, :] = average_time\n",
    "    return result"
   ]
  },
  {
   "cell_type": "code",
   "execution_count": 3,
   "metadata": {},
   "outputs": [],
   "source": [
    "mc_dir = \"../output/mc_p\"\n",
    "ge_dir = \"../output/ge_p\"\n",
    "gescalapack_dir = \"../output/ge_scalapack\"\n",
    "result_mc = generate_metrics_mcge_p(mc_dir)\n",
    "result_ge = generate_metrics_mcge_p(ge_dir)\n",
    "result_gescalapack = generate_metrics_gescalapack(gescalapack_dir)"
   ]
  },
  {
   "cell_type": "code",
   "execution_count": 4,
   "metadata": {},
   "outputs": [],
   "source": [
    "#averaging 5 different runs\n",
    "result_mc_average = np.mean(result_mc, axis = -1)\n",
    "result_gep_average = np.mean(result_ge, axis = -1)\n",
    "result_gescalapack_average = np.mean(result_gescalapack, axis = -1)"
   ]
  },
  {
   "cell_type": "code",
   "execution_count": 10,
   "metadata": {},
   "outputs": [],
   "source": [
    "#Extract Serial time for all three algorithms (3x 8 matrix)\n",
    "serial_time = np.array([result_mc_average[0,:,0], result_gep_average[0,:,0], result_gescalapack_average[:,0]])\n",
    "\n",
    "#calculate the best serial time for the determinant task\n",
    "best_serial_time = np.min(serial_time, axis= 0)"
   ]
  },
  {
   "cell_type": "code",
   "execution_count": 15,
   "metadata": {},
   "outputs": [],
   "source": [
    "#calculate the speed up for all algorithms\n",
    "speedup_mc = np.zeros((8,8), dtype = float)\n",
    "speedup_ge = np.zeros((8,8), dtype = float)\n",
    "speedup_gescalapack = np.zeros((8,8), dtype = float)\n",
    "\n",
    "for i in range(8):\n",
    "    t_s = best_serial_time[i]\n",
    "    for j in range(8):\n",
    "        speedup_mc[i,j] = t_s/ result_mc_average[0, i, j]\n",
    "        speedup_ge[i,j] = t_s/ result_gep_average[0, i, j]\n",
    "        speedup_gescalapack[i,j] = t_s/ result_gescalapack_average[i, j]"
   ]
  },
  {
   "cell_type": "code",
   "execution_count": 17,
   "metadata": {},
   "outputs": [],
   "source": [
    "#calculate the average speedup for all problem size\n",
    "average_speedup_mc = np.mean(speedup_mc, axis=0)\n",
    "average_speedup_ge = np.mean(speedup_ge, axis=0)\n",
    "average_speedup_gescalapack = np.mean(speedup_gescalapack, axis=0)"
   ]
  },
  {
   "cell_type": "code",
   "execution_count": 18,
   "metadata": {},
   "outputs": [
    {
     "data": {
      "text/plain": [
       "array([ 0.9684402 ,  1.80587184,  3.78313625,  5.71478961,  7.21165183,\n",
       "        9.03955253, 11.65056075,  9.33855536])"
      ]
     },
     "execution_count": 18,
     "metadata": {},
     "output_type": "execute_result"
    }
   ],
   "source": [
    "average_speedup_mc"
   ]
  },
  {
   "cell_type": "code",
   "execution_count": 19,
   "metadata": {},
   "outputs": [
    {
     "data": {
      "text/plain": [
       "array([1.        , 1.81138563, 3.73055726, 5.47046197, 6.55587263,\n",
       "       4.36794431, 1.86292031, 0.82251768])"
      ]
     },
     "execution_count": 19,
     "metadata": {},
     "output_type": "execute_result"
    }
   ],
   "source": [
    "average_speedup_ge"
   ]
  },
  {
   "cell_type": "code",
   "execution_count": 20,
   "metadata": {},
   "outputs": [
    {
     "data": {
      "text/plain": [
       "array([0.43910686, 0.68908454, 1.00344318, 1.21639564, 1.32301965,\n",
       "       1.38455207, 1.40886772, 1.35528389])"
      ]
     },
     "execution_count": 20,
     "metadata": {},
     "output_type": "execute_result"
    }
   ],
   "source": [
    "average_speedup_gescalapack"
   ]
  },
  {
   "cell_type": "code",
   "execution_count": null,
   "metadata": {},
   "outputs": [],
   "source": []
  }
 ],
 "metadata": {
  "kernelspec": {
   "display_name": "Python 3",
   "language": "python",
   "name": "python3"
  },
  "language_info": {
   "codemirror_mode": {
    "name": "ipython",
    "version": 3
   },
   "file_extension": ".py",
   "mimetype": "text/x-python",
   "name": "python",
   "nbconvert_exporter": "python",
   "pygments_lexer": "ipython3",
   "version": "3.6.4"
  }
 },
 "nbformat": 4,
 "nbformat_minor": 2
}
